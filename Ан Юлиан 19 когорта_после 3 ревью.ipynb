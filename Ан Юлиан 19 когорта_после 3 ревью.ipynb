{
 "cells": [
  {
   "cell_type": "markdown",
   "id": "54bb233c",
   "metadata": {},
   "source": [
    "# Вступление"
   ]
  },
  {
   "cell_type": "markdown",
   "id": "daaa752d",
   "metadata": {},
   "source": [
    "## Тема - Рекомендация тарифов"
   ]
  },
  {
   "cell_type": "markdown",
   "id": "c3331247",
   "metadata": {},
   "source": [
    "**Описание**\n",
    "Оператор мобильной связи «Мегалайн» выяснил: многие клиенты пользуются архивными тарифами. Они хотят построить систему, способную проанализировать поведение клиентов и предложить пользователям новый тариф: «Смарт» или «Ультра». В нашем случае это 1 или 0.\n",
    "\n",
    "В нашем распоряжении данные о поведении клиентов, которые уже перешли на эти тарифы. Нужно построить модель для задачи классификации, которая выберет подходящий тариф. Предобработка данных не понадобится — сделали ее в предыдущем проекте.\n",
    "\n",
    "**Цель:** Найти и построить модель с максимально большим значением accuracy.\n",
    "\n",
    "**План действий:**\n",
    "\n",
    "1. Открыть и изучить файл с данными.\n",
    "2. Разделить исходные данные на обучающую, валидационную и тестовую выборки.\n",
    "3. Исследовать качество разных моделей, меняя гиперпараметры.\n",
    "4. Проверить качество модели на тестовой выборке.\n",
    "5. Дополнительное задание: проверить модель на вменяемость."
   ]
  },
  {
   "cell_type": "markdown",
   "id": "91bee1ec",
   "metadata": {},
   "source": [
    "# Подготовка"
   ]
  },
  {
   "cell_type": "code",
   "execution_count": 58,
   "id": "c311cc56",
   "metadata": {},
   "outputs": [],
   "source": [
    "# Добавляем все необходимые библиотеки\n",
    "import pandas as pd\n",
    "import matplotlib.pyplot as plt\n",
    "import seaborn as sns\n",
    "from sklearn.model_selection import train_test_split\n",
    "from sklearn.preprocessing import Normalizer\n",
    "from sklearn.tree import DecisionTreeClassifier\n",
    "from sklearn.ensemble import RandomForestClassifier\n",
    "from sklearn.linear_model import LogisticRegression\n",
    "from sklearn.metrics import f1_score\n",
    "from sklearn.metrics import accuracy_score"
   ]
  },
  {
   "cell_type": "code",
   "execution_count": 59,
   "id": "217140ef",
   "metadata": {
    "scrolled": true
   },
   "outputs": [],
   "source": [
    "# открываем и чекаем исходный датасет\n",
    "try:\n",
    "    data = pd.read_csv('users_behavior.csv')\n",
    "except FileNotFoundError:\n",
    "    data = pd.read_csv('/datasets/users_behavior.csv')"
   ]
  },
  {
   "cell_type": "code",
   "execution_count": 60,
   "id": "90605d64",
   "metadata": {},
   "outputs": [
    {
     "name": "stdout",
     "output_type": "stream",
     "text": [
      "<class 'pandas.core.frame.DataFrame'>\n",
      "RangeIndex: 3214 entries, 0 to 3213\n",
      "Data columns (total 5 columns):\n",
      " #   Column    Non-Null Count  Dtype  \n",
      "---  ------    --------------  -----  \n",
      " 0   calls     3214 non-null   float64\n",
      " 1   minutes   3214 non-null   float64\n",
      " 2   messages  3214 non-null   float64\n",
      " 3   mb_used   3214 non-null   float64\n",
      " 4   is_ultra  3214 non-null   int64  \n",
      "dtypes: float64(4), int64(1)\n",
      "memory usage: 125.7 KB\n"
     ]
    }
   ],
   "source": [
    "data.info()"
   ]
  },
  {
   "cell_type": "code",
   "execution_count": 61,
   "id": "04d3efae",
   "metadata": {},
   "outputs": [
    {
     "data": {
      "text/plain": [
       "0"
      ]
     },
     "execution_count": 61,
     "metadata": {},
     "output_type": "execute_result"
    }
   ],
   "source": [
    "data.duplicated().sum()"
   ]
  },
  {
   "cell_type": "markdown",
   "id": "44bf1842",
   "metadata": {},
   "source": [
    "Видим, что данные без явных пропусков. Дубликатов нет. Проверим на выбросы.\n",
    "P.S. я сначала построил 3 модели, поигрался с гиперпараметрами, получил плохие результаты (все не превышали 0.71 Accuracy), начал читать как еще улучшить модель, и только тогда допер что надо выбросы проверить. Поэтому сделаем вид, что я сразу эту учел и с самого начала начал изучать выбросы =)"
   ]
  },
  {
   "cell_type": "code",
   "execution_count": 62,
   "id": "a4416303",
   "metadata": {},
   "outputs": [
    {
     "data": {
      "text/html": [
       "<div>\n",
       "<style scoped>\n",
       "    .dataframe tbody tr th:only-of-type {\n",
       "        vertical-align: middle;\n",
       "    }\n",
       "\n",
       "    .dataframe tbody tr th {\n",
       "        vertical-align: top;\n",
       "    }\n",
       "\n",
       "    .dataframe thead th {\n",
       "        text-align: right;\n",
       "    }\n",
       "</style>\n",
       "<table border=\"1\" class=\"dataframe\">\n",
       "  <thead>\n",
       "    <tr style=\"text-align: right;\">\n",
       "      <th></th>\n",
       "      <th>calls</th>\n",
       "      <th>minutes</th>\n",
       "      <th>messages</th>\n",
       "      <th>mb_used</th>\n",
       "      <th>is_ultra</th>\n",
       "    </tr>\n",
       "  </thead>\n",
       "  <tbody>\n",
       "    <tr>\n",
       "      <th>count</th>\n",
       "      <td>3214.000000</td>\n",
       "      <td>3214.000000</td>\n",
       "      <td>3214.000000</td>\n",
       "      <td>3214.000000</td>\n",
       "      <td>3214.000000</td>\n",
       "    </tr>\n",
       "    <tr>\n",
       "      <th>mean</th>\n",
       "      <td>63.038892</td>\n",
       "      <td>438.208787</td>\n",
       "      <td>38.281269</td>\n",
       "      <td>17207.673836</td>\n",
       "      <td>0.306472</td>\n",
       "    </tr>\n",
       "    <tr>\n",
       "      <th>std</th>\n",
       "      <td>33.236368</td>\n",
       "      <td>234.569872</td>\n",
       "      <td>36.148326</td>\n",
       "      <td>7570.968246</td>\n",
       "      <td>0.461100</td>\n",
       "    </tr>\n",
       "    <tr>\n",
       "      <th>min</th>\n",
       "      <td>0.000000</td>\n",
       "      <td>0.000000</td>\n",
       "      <td>0.000000</td>\n",
       "      <td>0.000000</td>\n",
       "      <td>0.000000</td>\n",
       "    </tr>\n",
       "    <tr>\n",
       "      <th>25%</th>\n",
       "      <td>40.000000</td>\n",
       "      <td>274.575000</td>\n",
       "      <td>9.000000</td>\n",
       "      <td>12491.902500</td>\n",
       "      <td>0.000000</td>\n",
       "    </tr>\n",
       "    <tr>\n",
       "      <th>50%</th>\n",
       "      <td>62.000000</td>\n",
       "      <td>430.600000</td>\n",
       "      <td>30.000000</td>\n",
       "      <td>16943.235000</td>\n",
       "      <td>0.000000</td>\n",
       "    </tr>\n",
       "    <tr>\n",
       "      <th>75%</th>\n",
       "      <td>82.000000</td>\n",
       "      <td>571.927500</td>\n",
       "      <td>57.000000</td>\n",
       "      <td>21424.700000</td>\n",
       "      <td>1.000000</td>\n",
       "    </tr>\n",
       "    <tr>\n",
       "      <th>max</th>\n",
       "      <td>244.000000</td>\n",
       "      <td>1632.060000</td>\n",
       "      <td>224.000000</td>\n",
       "      <td>49745.730000</td>\n",
       "      <td>1.000000</td>\n",
       "    </tr>\n",
       "  </tbody>\n",
       "</table>\n",
       "</div>"
      ],
      "text/plain": [
       "             calls      minutes     messages       mb_used     is_ultra\n",
       "count  3214.000000  3214.000000  3214.000000   3214.000000  3214.000000\n",
       "mean     63.038892   438.208787    38.281269  17207.673836     0.306472\n",
       "std      33.236368   234.569872    36.148326   7570.968246     0.461100\n",
       "min       0.000000     0.000000     0.000000      0.000000     0.000000\n",
       "25%      40.000000   274.575000     9.000000  12491.902500     0.000000\n",
       "50%      62.000000   430.600000    30.000000  16943.235000     0.000000\n",
       "75%      82.000000   571.927500    57.000000  21424.700000     1.000000\n",
       "max     244.000000  1632.060000   224.000000  49745.730000     1.000000"
      ]
     },
     "execution_count": 62,
     "metadata": {},
     "output_type": "execute_result"
    }
   ],
   "source": [
    "data.describe()"
   ]
  },
  {
   "cell_type": "markdown",
   "id": "9b9fb932",
   "metadata": {},
   "source": [
    "Видим, что аномальных значений по нижней границу нет. Везде минимальное значение - 0. А вот с максимальным значением стоит разобраться и проверить на наличие выбросов. Кроме колонки is_ultra. Там у нас по умолчанию должны быть только значени 0 и 1. Таблица describe это подтверждает, что мин значение - 0 а мах значение - 1. Значит тут точно нет аномальных значений."
   ]
  },
  {
   "cell_type": "code",
   "execution_count": 63,
   "id": "df1cc576",
   "metadata": {},
   "outputs": [
    {
     "data": {
      "image/png": "[encoded data removed]",
      "text/plain": [
       "<Figure size 1152x288 with 4 Axes>"
      ]
     },
     "metadata": {
      "needs_background": "light"
     },
     "output_type": "display_data"
    }
   ],
   "source": [
    "# СТроим боксплоты чтобы увидеть картину по выбросам для каждой колонки\n",
    "\n",
    "fig, axs = plt.subplots(1, 4, figsize=(16, 4))\n",
    "i = 0\n",
    "for column in data.drop('is_ultra', axis=1).columns:\n",
    "    sns.boxplot(x=data[column], ax=axs[i])\n",
    "    axs[i].set_title(column)\n",
    "    i += 1\n",
    "\n",
    "plt.show()"
   ]
  },
  {
   "cell_type": "code",
   "execution_count": 64,
   "id": "0bee5ebd",
   "metadata": {},
   "outputs": [],
   "source": [
    "# Видим, что выбросы есть по каждому значению и при том довольно много их. Для построения более качественной модели есть смысл избавиться от выбросов, хотя бы оставив только те что в ходят в деапозон Q1 - IQR и Q3 + IQR. Но так как все значения у нас обладают минимальным значением в 0, то нижню границу 0 и можно оставить.\n",
    "\n",
    "\n",
    "\n",
    "# Рассчитаем IQR для каждого значения, границу Q3 + IQR и отфильтруем датасет\n",
    "\n",
    "# for column in data.drop('is_ultra', axis=1).columns:\n",
    "#     IQR = data[column].quantile(0.75) - data[column].quantile(0.25)\n",
    "#     up = data[column].quantile(0.75) + 1.5 * IQR\n",
    "#     data = data[(data[column] <= up)]\n",
    "\n",
    "# data.info()\n",
    "\n",
    "# Итого мы получили датасет примерно на 250 значений меньше. Ну, думаю можно с этим жить, зато точно будем знать, что наша модель описывается более качественно."
   ]
  },
  {
   "cell_type": "code",
   "execution_count": 65,
   "id": "4096ebbf",
   "metadata": {},
   "outputs": [
    {
     "data": {
      "text/plain": [
       "0    0.693528\n",
       "1    0.306472\n",
       "Name: is_ultra, dtype: float64"
      ]
     },
     "execution_count": 65,
     "metadata": {},
     "output_type": "execute_result"
    }
   ],
   "source": [
    "data['is_ultra'].value_counts() / data.shape[0]"
   ]
  },
  {
   "cell_type": "markdown",
   "id": "412e0fa6",
   "metadata": {},
   "source": [
    "Здесь видим, что тарифов ультра (1) у нас 30% от всего датасета, а тарифов смарт (0) - 70%."
   ]
  },
  {
   "cell_type": "markdown",
   "id": "45fe43cc",
   "metadata": {},
   "source": [
    "# Разделяем исходные данные на обучающую, валидационную и тестовую выборки."
   ]
  },
  {
   "cell_type": "code",
   "execution_count": 66,
   "id": "4a463071",
   "metadata": {},
   "outputs": [],
   "source": [
    "# Разделим выборку на валидационную и тестовую.\n",
    "data_train, data_test = train_test_split(data, test_size=0.2, random_state=12345, stratify=data['is_ultra'])\n",
    "data_train, data_valid = train_test_split(data_train, test_size=0.25, random_state=12345, stratify=data_train['is_ultra'])\n",
    "\n",
    "#  Определим зависимую и независимые переменные для выделенных датасетов\n",
    "X_train = data_train.drop(['is_ultra'], axis=1)\n",
    "Y_train = data_train['is_ultra']\n",
    "X_test = data_test.drop(['is_ultra'], axis=1)\n",
    "Y_test = data_test['is_ultra']\n",
    "X_valid = data_valid.drop(['is_ultra'], axis=1)\n",
    "Y_valid = data_valid['is_ultra']\n",
    "\n",
    "# Нормализуем значения\n",
    "# norm = Normalizer().fit(X_train)\n",
    "# X_train = norm.transform(X_train)\n",
    "# X_test = norm.transform(X_test)\n",
    "# X_valid = norm.transform(X_valid)\n",
    "\n",
    "\n",
    "# Создадим словарь на будущее: модель - качество\n",
    "sl = {}\n"
   ]
  },
  {
   "cell_type": "markdown",
   "id": "b5221076",
   "metadata": {},
   "source": [
    "# Построение изученных моделей для классификации. Исследуем их качество. Поиграемся с гиперпараметрами. Проверим качество модели на тестовой выборке."
   ]
  },
  {
   "cell_type": "markdown",
   "id": "b9e72cf3",
   "metadata": {},
   "source": [
    "## Решающее дерево"
   ]
  },
  {
   "cell_type": "markdown",
   "id": "d65f0d3d",
   "metadata": {},
   "source": [
    "Сразу начнем перебор по 3 гиперпарамтерам по глубине, узлам и листьям. Обучать модель будем на обучающей выборке. Проверять качество модели на валидационной выборке. Отобрав идеальные гиперпараметры по качеству валидационной выборке - построим заново модель по обучающей выборке и проверим ее на тестовой. Сохраним значение качества в словарик."
   ]
  },
  {
   "cell_type": "code",
   "execution_count": 67,
   "id": "a35388dd",
   "metadata": {},
   "outputs": [
    {
     "name": "stdout",
     "output_type": "stream",
     "text": [
      "0.8164852255054432\n",
      "{'max_depth': 5, 'min_samples_split': 2, 'min_samples_leaf': 1}\n"
     ]
    }
   ],
   "source": [
    "# Перебираем гиперпараметры и выбираем модель с максимальным значением Accuracy, запоминая гипперпараметры такой модели\n",
    "\n",
    "best_res = 0\n",
    "good_tree = None\n",
    "for depth in range(1,10):\n",
    "    for split in range(2,10):\n",
    "        for leaf in range(1,10):\n",
    "            model = DecisionTreeClassifier(max_depth=depth, \n",
    "                                           min_samples_split=split, \n",
    "                                           min_samples_leaf=leaf, \n",
    "                                           criterion='gini',\n",
    "                                           random_state=12345)\n",
    "            model.fit(X_train, Y_train)\n",
    "            pred_valid = model.predict(X_valid)\n",
    "            res = accuracy_score(Y_valid, pred_valid)\n",
    "            if res > best_res:\n",
    "                best_valid = pred_valid\n",
    "                best_res = res\n",
    "                best_params = {'max_depth': depth, 'min_samples_split': split, 'min_samples_leaf': leaf}\n",
    "                good_tree = model\n",
    "\n",
    "print(best_res)                \n",
    "print(best_params)\n",
    "sl['Decision Tree'] = [best_res, best_params, good_tree]"
   ]
  },
  {
   "cell_type": "markdown",
   "id": "9254a5fa",
   "metadata": {},
   "source": [
    "Получилось, что наилучший результат в 0.8164852255054432 - достигается при глубине дерева =5, минимальной количестве узлов = 2 и минимальном количестве листьев = 1."
   ]
  },
  {
   "cell_type": "code",
   "execution_count": 68,
   "id": "2161222c",
   "metadata": {},
   "outputs": [],
   "source": [
    "# pred_test = good_tree.predict(X_test)\n",
    "# test_accuracy = accuracy_score(Y_test, pred_test)\n",
    "# print(\"Accuracy на тестовой выборке:\", test_accuracy)\n",
    "\n",
    "# sl['Decision Tree'] = [test_accuracy, best_params]"
   ]
  },
  {
   "cell_type": "markdown",
   "id": "62efa738",
   "metadata": {},
   "source": [
    "Используем метрику f1_score, с учетом дисбаланса классов - average='weighted'"
   ]
  },
  {
   "cell_type": "code",
   "execution_count": 69,
   "id": "31a556ac",
   "metadata": {},
   "outputs": [
    {
     "name": "stdout",
     "output_type": "stream",
     "text": [
      "0.8043433389476315\n"
     ]
    }
   ],
   "source": [
    "f1 = f1_score(Y_valid, best_valid, average='weighted')\n",
    "\n",
    "print(f1)"
   ]
  },
  {
   "cell_type": "markdown",
   "id": "06f7bd87",
   "metadata": {},
   "source": [
    "В целом результат больше 0.5, даже ближе к 1, это предпосылка для того, что можно считать модель достаточно хорошей"
   ]
  },
  {
   "cell_type": "markdown",
   "id": "6b9b3820",
   "metadata": {},
   "source": [
    "## Случайный лес"
   ]
  },
  {
   "cell_type": "markdown",
   "id": "c9c98b8a",
   "metadata": {},
   "source": [
    "Используя алгоритм случайного леса, в качестве гиперпараметров так же будем перебирать глубину, узлы и листья, а так же количество деревьев в лесу кратное 10."
   ]
  },
  {
   "cell_type": "code",
   "execution_count": 70,
   "id": "93c3fb67",
   "metadata": {},
   "outputs": [
    {
     "name": "stdout",
     "output_type": "stream",
     "text": [
      "0.8211508553654744\n",
      "{'n_estimators': 10, 'max_depth': 4, 'min_samples_split': 2, 'min_samples_leaf': 1}\n"
     ]
    }
   ],
   "source": [
    "best_res = 0\n",
    "good_forest = None\n",
    "for est in range(10,101,10):\n",
    "    for depth in range(1, 5):\n",
    "        for split in range(2,5):\n",
    "            for leaf in range(1,5):\n",
    "                model = RandomForestClassifier(n_estimators=est,\n",
    "                                               min_samples_split=split,\n",
    "                                               max_depth=depth,\n",
    "                                               min_samples_leaf=leaf,\n",
    "                                               random_state=12345)\n",
    "                model.fit(X_train, Y_train)\n",
    "                pred_valid = model.predict(X_valid)\n",
    "                res = accuracy_score(Y_valid, pred_valid)\n",
    "                if res > best_res:\n",
    "                    best_valid = pred_valid\n",
    "                    good_forest = model\n",
    "                    best_res = res\n",
    "                    best_params = {'n_estimators': est, 'max_depth': depth, \n",
    "                                   'min_samples_split': split, 'min_samples_leaf': leaf}\n",
    "print(best_res)                \n",
    "print(best_params)\n",
    "sl['Random Forest'] = [best_res, best_params, good_forest]"
   ]
  },
  {
   "cell_type": "markdown",
   "id": "492c9a4e",
   "metadata": {},
   "source": [
    "Получили значение равное = 0.8211508553654744. Неплохой результат, который достигается при следующих гиперпараметрах: 10 деревьев, глубина 4, узлов 2 и листьев 1."
   ]
  },
  {
   "cell_type": "code",
   "execution_count": 71,
   "id": "68659a37",
   "metadata": {},
   "outputs": [],
   "source": [
    "# pred_test = good_forest.predict(X_test)\n",
    "# test_accuracy = accuracy_score(Y_test, pred_test)\n",
    "# print(\"Accuracy на тестовой выборке:\", test_accuracy)\n",
    "\n",
    "# sl['Random Forest'] = [test_accuracy, best_params]"
   ]
  },
  {
   "cell_type": "code",
   "execution_count": 72,
   "id": "2f1ce5da",
   "metadata": {},
   "outputs": [
    {
     "name": "stdout",
     "output_type": "stream",
     "text": [
      "0.8090759873352499\n"
     ]
    }
   ],
   "source": [
    "f1 = f1_score(Y_valid, best_valid, average='weighted')\n",
    "\n",
    "print(f1)"
   ]
  },
  {
   "cell_type": "markdown",
   "id": "f26c3958",
   "metadata": {},
   "source": [
    "В целом результат так же больше 0.5, даже ближе к 1, это предпосылка для того, что можно считать модель достаточно хорошей"
   ]
  },
  {
   "cell_type": "markdown",
   "id": "3f290645",
   "metadata": {},
   "source": [
    "## Логистическая регрессия"
   ]
  },
  {
   "cell_type": "markdown",
   "id": "87b0a0af",
   "metadata": {},
   "source": [
    "Строим логистическую регерссию. И вычисляем Accuracy по тестовой выборке "
   ]
  },
  {
   "cell_type": "code",
   "execution_count": 73,
   "id": "33ff9281",
   "metadata": {},
   "outputs": [
    {
     "name": "stdout",
     "output_type": "stream",
     "text": [
      "0.7558320373250389\n"
     ]
    }
   ],
   "source": [
    "model = LogisticRegression(random_state=12345)\n",
    "model.fit(X_train, Y_train)\n",
    "pred_valid = model.predict(X_valid)\n",
    "res = accuracy_score(Y_valid, pred_valid)\n",
    "print(res)\n",
    "\n",
    "# pred_test = model.predict(X_test)\n",
    "# test_accuracy = accuracy_score(Y_test, pred_test)\n",
    "# print(\"Accuracy на тестовой выборке:\", test_accuracy)\n",
    "\n",
    "sl['Logistic Regression'] = [res, model]"
   ]
  },
  {
   "cell_type": "markdown",
   "id": "a7f1930f",
   "metadata": {},
   "source": [
    "Получили значение 0.7558320373250389. Получилось значение меньше чем у предыдущих алгоритмов."
   ]
  },
  {
   "cell_type": "code",
   "execution_count": 74,
   "id": "d1d1af34",
   "metadata": {},
   "outputs": [
    {
     "name": "stdout",
     "output_type": "stream",
     "text": [
      "0.7057437295218932\n"
     ]
    }
   ],
   "source": [
    "f1 = f1_score(Y_valid, pred_valid, average='weighted')\n",
    "\n",
    "print(f1)"
   ]
  },
  {
   "cell_type": "markdown",
   "id": "b5106864",
   "metadata": {},
   "source": [
    "И метрика f1_score у такой модели меньше всего."
   ]
  },
  {
   "cell_type": "markdown",
   "id": "69ef3ce1",
   "metadata": {},
   "source": [
    "Самое время узнать победителя - у какой модели самое высокое значение качества?"
   ]
  },
  {
   "cell_type": "code",
   "execution_count": 75,
   "id": "619e7120",
   "metadata": {},
   "outputs": [
    {
     "data": {
      "text/plain": [
       "{'Decision Tree': [0.8164852255054432,\n",
       "  {'max_depth': 5, 'min_samples_split': 2, 'min_samples_leaf': 1},\n",
       "  DecisionTreeClassifier(max_depth=5, random_state=12345)],\n",
       " 'Random Forest': [0.8211508553654744,\n",
       "  {'n_estimators': 10,\n",
       "   'max_depth': 4,\n",
       "   'min_samples_split': 2,\n",
       "   'min_samples_leaf': 1},\n",
       "  RandomForestClassifier(max_depth=4, n_estimators=10, random_state=12345)],\n",
       " 'Logistic Regression': [0.7558320373250389,\n",
       "  LogisticRegression(random_state=12345)]}"
      ]
     },
     "execution_count": 75,
     "metadata": {},
     "output_type": "execute_result"
    }
   ],
   "source": [
    "sl"
   ]
  },
  {
   "cell_type": "code",
   "execution_count": 76,
   "id": "dae17be6",
   "metadata": {},
   "outputs": [
    {
     "name": "stdout",
     "output_type": "stream",
     "text": [
      "Random Forest\n",
      "Accuracy =  0.8211508553654744\n"
     ]
    }
   ],
   "source": [
    "max_key = max(sl.items(), key=lambda x: x[1][0])[0]\n",
    "print(max_key)\n",
    "print('Accuracy = ', sl[max_key][0])"
   ]
  },
  {
   "cell_type": "markdown",
   "id": "9b89d90a",
   "metadata": {},
   "source": [
    "Самой лучше моделью оказалась модель с алгоритмом Случайного леса. Со значением Accuracy =  0.8211508553654744.\n",
    "\n",
    "Тепеь проверим ее тестовой выборке"
   ]
  },
  {
   "cell_type": "code",
   "execution_count": 77,
   "id": "d8d58693",
   "metadata": {},
   "outputs": [
    {
     "name": "stdout",
     "output_type": "stream",
     "text": [
      "Accuracy на тестовой выборке: 0.7900466562986003\n"
     ]
    }
   ],
   "source": [
    "pred_test = good_forest.predict(X_test)\n",
    "test_accuracy = accuracy_score(Y_test, pred_test)\n",
    "print(\"Accuracy на тестовой выборке:\", test_accuracy)"
   ]
  },
  {
   "cell_type": "markdown",
   "id": "d34c46ef",
   "metadata": {},
   "source": [
    "Значение Accuracy на тестовой выборке получилось равное 0.7900466562986003. Думаю это хороший результат. Модель оказалась не сильно переобученной."
   ]
  },
  {
   "cell_type": "markdown",
   "id": "0b7052a8",
   "metadata": {},
   "source": [
    "## Проверка модели на вменяемость"
   ]
  },
  {
   "cell_type": "markdown",
   "id": "1ce20022",
   "metadata": {},
   "source": [
    "Определим долю самого частотного класса в выборке и это значение и будет качеством \"случайно\" модели. Так мы сможем оценить нашу модель на \"адекватность\"."
   ]
  },
  {
   "cell_type": "code",
   "execution_count": 78,
   "id": "bd6c6438",
   "metadata": {},
   "outputs": [
    {
     "data": {
      "text/plain": [
       "0    0.693528\n",
       "1    0.306472\n",
       "Name: is_ultra, dtype: float64"
      ]
     },
     "execution_count": 78,
     "metadata": {},
     "output_type": "execute_result"
    }
   ],
   "source": [
    "pr = data['is_ultra'].value_counts() / data.shape[0]\n",
    "pr"
   ]
  },
  {
   "cell_type": "code",
   "execution_count": 79,
   "id": "7dfdc1dc",
   "metadata": {},
   "outputs": [
    {
     "name": "stdout",
     "output_type": "stream",
     "text": [
      "Модель адекватна\n"
     ]
    }
   ],
   "source": [
    "if sl[max_key][0] > pr[0]:\n",
    "    print('Модель адекватна')\n",
    "else:\n",
    "    print('Модель не адекватна')"
   ]
  },
  {
   "cell_type": "markdown",
   "id": "cf3f55eb",
   "metadata": {},
   "source": [
    "# Вывод\n",
    "\n",
    "1. Проверили наши данные на пропуски, дубликаты и выбросы.\n",
    "3. Разбили датафрейм на 3 выборки с учетом дисбаланса в классах: обучающую, валидационную и тестовую.\n",
    "4. Построили 3 разных модели: Решающее дерево, Случайны лес и Логистическую регрессию. Подобрали оптимальные гиперпарметры для каждой модели, чтобы получить максимальное значение Accuracy каждой модели для тестовой выборки.\n",
    "5. Определили победителя - Случайный лес, с Accuracy на валидационной выборке = 0.82 и гиперпарметрами у модели: количество деревьев = 10, глубина дерева =4, минимальное количество узлов = 2 и минимальное количество листьев = 1.\n",
    "6. Применили модель к тестовой выборке и получили значение Accuracy = 0.79\n",
    "7. Проверили модель-победительницу ну адекватность. Проверка пройдена"
   ]
  }
 ],
 "metadata": {
  "ExecuteTimeLog": [
   {
    "duration": 1546,
    "start_time": "2023-04-20T16:51:41.507Z"
   },
   {
    "duration": 149,
    "start_time": "2023-04-20T16:51:43.055Z"
   },
   {
    "duration": 0,
    "start_time": "2023-04-20T16:51:43.205Z"
   },
   {
    "duration": 0,
    "start_time": "2023-04-20T16:51:43.207Z"
   },
   {
    "duration": 0,
    "start_time": "2023-04-20T16:51:43.208Z"
   },
   {
    "duration": 118,
    "start_time": "2023-04-20T16:52:17.803Z"
   },
   {
    "duration": 11,
    "start_time": "2023-04-20T16:52:21.415Z"
   },
   {
    "duration": 7,
    "start_time": "2023-04-20T16:52:21.614Z"
   },
   {
    "duration": 23,
    "start_time": "2023-04-20T16:52:22.086Z"
   },
   {
    "duration": 282,
    "start_time": "2023-04-20T16:52:22.547Z"
   },
   {
    "duration": 22,
    "start_time": "2023-04-20T16:52:23.183Z"
   },
   {
    "duration": 271,
    "start_time": "2023-04-20T16:52:25.483Z"
   },
   {
    "duration": 74,
    "start_time": "2023-04-20T16:55:40.825Z"
   },
   {
    "duration": 2720,
    "start_time": "2023-04-20T16:56:25.187Z"
   },
   {
    "duration": 6,
    "start_time": "2023-04-20T16:56:38.488Z"
   },
   {
    "duration": 1938,
    "start_time": "2023-04-21T13:56:43.274Z"
   },
   {
    "duration": 160,
    "start_time": "2023-04-21T13:56:45.214Z"
   },
   {
    "duration": 11,
    "start_time": "2023-04-21T14:00:12.623Z"
   },
   {
    "duration": 7,
    "start_time": "2023-04-21T14:00:13.007Z"
   },
   {
    "duration": 21,
    "start_time": "2023-04-21T14:00:13.500Z"
   },
   {
    "duration": 247,
    "start_time": "2023-04-21T14:00:13.978Z"
   },
   {
    "duration": 3,
    "start_time": "2023-04-21T14:00:14.761Z"
   },
   {
    "duration": 6,
    "start_time": "2023-04-21T14:00:15.960Z"
   },
   {
    "duration": 17,
    "start_time": "2023-04-21T14:00:19.106Z"
   },
   {
    "duration": 4,
    "start_time": "2023-04-21T14:00:32.078Z"
   },
   {
    "duration": 1531,
    "start_time": "2023-04-21T14:00:41.923Z"
   },
   {
    "duration": 61,
    "start_time": "2023-04-21T14:00:43.456Z"
   },
   {
    "duration": 9,
    "start_time": "2023-04-21T14:00:43.519Z"
   },
   {
    "duration": 6,
    "start_time": "2023-04-21T14:00:43.529Z"
   },
   {
    "duration": 24,
    "start_time": "2023-04-21T14:00:43.537Z"
   },
   {
    "duration": 257,
    "start_time": "2023-04-21T14:00:43.562Z"
   },
   {
    "duration": 2,
    "start_time": "2023-04-21T14:00:43.820Z"
   },
   {
    "duration": 8,
    "start_time": "2023-04-21T14:00:43.824Z"
   },
   {
    "duration": 13,
    "start_time": "2023-04-21T14:00:43.834Z"
   },
   {
    "duration": 2942,
    "start_time": "2023-04-21T14:00:43.849Z"
   },
   {
    "duration": 5,
    "start_time": "2023-04-21T14:00:46.793Z"
   },
   {
    "duration": 11,
    "start_time": "2023-04-21T14:00:46.799Z"
   },
   {
    "duration": 45339,
    "start_time": "2023-04-21T14:00:46.812Z"
   },
   {
    "duration": 7,
    "start_time": "2023-04-21T14:01:32.154Z"
   },
   {
    "duration": 30,
    "start_time": "2023-04-21T14:01:32.162Z"
   },
   {
    "duration": 62,
    "start_time": "2023-04-21T14:01:32.194Z"
   },
   {
    "duration": 26,
    "start_time": "2023-04-21T14:01:32.257Z"
   },
   {
    "duration": 16,
    "start_time": "2023-04-21T14:01:32.285Z"
   },
   {
    "duration": 13,
    "start_time": "2023-04-21T14:01:32.303Z"
   },
   {
    "duration": 33,
    "start_time": "2023-04-21T14:01:32.317Z"
   },
   {
    "duration": 32,
    "start_time": "2023-04-21T14:01:32.351Z"
   },
   {
    "duration": 1791,
    "start_time": "2023-04-21T15:51:08.729Z"
   },
   {
    "duration": 210,
    "start_time": "2023-04-21T15:51:10.522Z"
   },
   {
    "duration": 12,
    "start_time": "2023-04-21T15:51:10.733Z"
   },
   {
    "duration": 6,
    "start_time": "2023-04-21T15:51:10.747Z"
   },
   {
    "duration": 22,
    "start_time": "2023-04-21T15:51:10.755Z"
   },
   {
    "duration": 291,
    "start_time": "2023-04-21T15:51:10.778Z"
   },
   {
    "duration": 4,
    "start_time": "2023-04-21T15:51:11.071Z"
   },
   {
    "duration": 20,
    "start_time": "2023-04-21T15:51:11.077Z"
   },
   {
    "duration": 12,
    "start_time": "2023-04-21T15:51:11.099Z"
   },
   {
    "duration": 3818,
    "start_time": "2023-04-21T15:51:11.114Z"
   },
   {
    "duration": 2,
    "start_time": "2023-04-21T15:51:14.934Z"
   },
   {
    "duration": 125,
    "start_time": "2023-04-21T15:51:14.938Z"
   },
   {
    "duration": 0,
    "start_time": "2023-04-21T15:51:15.065Z"
   },
   {
    "duration": 0,
    "start_time": "2023-04-21T15:51:15.066Z"
   },
   {
    "duration": 0,
    "start_time": "2023-04-21T15:51:15.067Z"
   },
   {
    "duration": 0,
    "start_time": "2023-04-21T15:51:15.068Z"
   },
   {
    "duration": 0,
    "start_time": "2023-04-21T15:51:15.069Z"
   },
   {
    "duration": 0,
    "start_time": "2023-04-21T15:51:15.069Z"
   },
   {
    "duration": 0,
    "start_time": "2023-04-21T15:51:15.070Z"
   },
   {
    "duration": 0,
    "start_time": "2023-04-21T15:51:15.071Z"
   },
   {
    "duration": 0,
    "start_time": "2023-04-21T15:51:15.072Z"
   },
   {
    "duration": 0,
    "start_time": "2023-04-21T15:51:15.073Z"
   },
   {
    "duration": 48088,
    "start_time": "2023-04-21T15:51:46.909Z"
   },
   {
    "duration": 2,
    "start_time": "2023-04-21T15:52:34.999Z"
   },
   {
    "duration": 22,
    "start_time": "2023-04-21T15:52:35.003Z"
   },
   {
    "duration": 0,
    "start_time": "2023-04-21T15:52:35.027Z"
   },
   {
    "duration": 0,
    "start_time": "2023-04-21T15:52:35.028Z"
   },
   {
    "duration": 0,
    "start_time": "2023-04-21T15:52:35.028Z"
   },
   {
    "duration": 0,
    "start_time": "2023-04-21T15:52:35.029Z"
   },
   {
    "duration": 0,
    "start_time": "2023-04-21T15:52:35.030Z"
   },
   {
    "duration": 25,
    "start_time": "2023-04-21T15:52:48.093Z"
   },
   {
    "duration": 8,
    "start_time": "2023-04-21T15:52:48.545Z"
   },
   {
    "duration": 5,
    "start_time": "2023-04-21T15:52:49.603Z"
   },
   {
    "duration": 4,
    "start_time": "2023-04-21T15:52:49.992Z"
   },
   {
    "duration": 6,
    "start_time": "2023-04-21T15:52:59.042Z"
   }
  ],
  "kernelspec": {
   "display_name": "Python 3 (ipykernel)",
   "language": "python",
   "name": "python3"
  },
  "language_info": {
   "codemirror_mode": {
    "name": "ipython",
    "version": 3
   },
   "file_extension": ".py",
   "mimetype": "text/x-python",
   "name": "python",
   "nbconvert_exporter": "python",
   "pygments_lexer": "ipython3",
   "version": "3.9.12"
  },
  "toc": {
   "base_numbering": 1,
   "nav_menu": {},
   "number_sections": true,
   "sideBar": true,
   "skip_h1_title": true,
   "title_cell": "Table of Contents",
   "title_sidebar": "Contents",
   "toc_cell": false,
   "toc_position": {},
   "toc_section_display": true,
   "toc_window_display": true
  }
 },
 "nbformat": 4,
 "nbformat_minor": 5
}
